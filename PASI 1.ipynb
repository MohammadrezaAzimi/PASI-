{
 "cells": [
  {
   "cell_type": "code",
   "execution_count": 62,
   "metadata": {},
   "outputs": [],
   "source": [
    "import pandas as pd \n",
    "import numpy as np \n",
    "import matplotlib.pyplot as plt \n",
    "import matplotlib \n",
    "\n",
    "plt.style.use('ggplot')"
   ]
  },
  {
   "cell_type": "code",
   "execution_count": 63,
   "metadata": {},
   "outputs": [],
   "source": [
    "df=pd.read_excel('/Users/Mohammadreza/Downloads/Hosseinzadeh.xlsx')"
   ]
  },
  {
   "cell_type": "code",
   "execution_count": 64,
   "metadata": {},
   "outputs": [],
   "source": [
    "df=df.drop(labels=['Sn','variable 1','variable2'],axis=1)"
   ]
  },
  {
   "cell_type": "code",
   "execution_count": 65,
   "metadata": {},
   "outputs": [
    {
     "data": {
      "text/plain": [
       "sex                     int64\n",
       "age                     int64\n",
       "age of onset            int64\n",
       "BMI                   float64\n",
       "Head & Neck             int64\n",
       "Trunk                   int64\n",
       "Upper                   int64\n",
       "Lower                   int64\n",
       "palmoplantar            int64\n",
       "PASI                  float64\n",
       "BMI status              int64\n",
       "age group               int64\n",
       "age of onset group      int64\n",
       "dtype: object"
      ]
     },
     "execution_count": 65,
     "metadata": {},
     "output_type": "execute_result"
    }
   ],
   "source": [
    "df.dtypes"
   ]
  },
  {
   "cell_type": "code",
   "execution_count": 66,
   "metadata": {},
   "outputs": [],
   "source": [
    "df.sex=df.sex.map({1:'male',2:'female'})\n",
    "df.iloc[:,-3]=df.iloc[:,-3].map({1:'underweight',2:'normal',3:'overweight',4:'obese'})\n",
    "df.iloc[:,-1]=df.iloc[:,-1].map({1:'under 30',2:' between 30 and 50',3:'older than 50'})\n",
    "df.iloc[:,-2]=df.iloc[:,-2].map({1:'under 30',2:' between 30 and 50',3:'older than 50'})"
   ]
  },
  {
   "cell_type": "code",
   "execution_count": 67,
   "metadata": {},
   "outputs": [],
   "source": [
    "df['PASI']=pd.cut(df['PASI'], bins=[0, 5, 12, 20,72], include_lowest=True, labels=['Mild', 'Moderate', 'Severe', 'Very Severe'])"
   ]
  },
  {
   "cell_type": "code",
   "execution_count": 70,
   "metadata": {},
   "outputs": [],
   "source": [
    "def col_map(df,i):\n",
    "    df.iloc[:,i]=df.iloc[:,i].map({1:'positive',2:'negative'})\n",
    "    return df "
   ]
  },
  {
   "cell_type": "code",
   "execution_count": 71,
   "metadata": {},
   "outputs": [],
   "source": [
    "for i in list(range(4,9)):\n",
    "    dff=col_map(df,i)"
   ]
  },
  {
   "cell_type": "code",
   "execution_count": 72,
   "metadata": {},
   "outputs": [
    {
     "data": {
      "text/plain": [
       "sex                     object\n",
       "age                      int64\n",
       "age of onset             int64\n",
       "BMI                    float64\n",
       "Head & Neck             object\n",
       "Trunk                   object\n",
       "Upper                   object\n",
       "Lower                   object\n",
       "palmoplantar            object\n",
       "PASI                  category\n",
       "BMI status              object\n",
       "age group               object\n",
       "age of onset group      object\n",
       "dtype: object"
      ]
     },
     "execution_count": 72,
     "metadata": {},
     "output_type": "execute_result"
    }
   ],
   "source": [
    "dff.dtypes"
   ]
  },
  {
   "cell_type": "code",
   "execution_count": 74,
   "metadata": {},
   "outputs": [
    {
     "data": {
      "text/html": [
       "<div>\n",
       "<style>\n",
       "    .dataframe thead tr:only-child th {\n",
       "        text-align: right;\n",
       "    }\n",
       "\n",
       "    .dataframe thead th {\n",
       "        text-align: left;\n",
       "    }\n",
       "\n",
       "    .dataframe tbody tr th {\n",
       "        vertical-align: top;\n",
       "    }\n",
       "</style>\n",
       "<table border=\"1\" class=\"dataframe\">\n",
       "  <thead>\n",
       "    <tr style=\"text-align: right;\">\n",
       "      <th></th>\n",
       "      <th>sex</th>\n",
       "      <th>age</th>\n",
       "      <th>age of onset</th>\n",
       "      <th>BMI</th>\n",
       "      <th>Head &amp; Neck</th>\n",
       "      <th>Trunk</th>\n",
       "      <th>Upper</th>\n",
       "      <th>Lower</th>\n",
       "      <th>palmoplantar</th>\n",
       "      <th>PASI</th>\n",
       "      <th>BMI status</th>\n",
       "      <th>age group</th>\n",
       "      <th>age of onset group</th>\n",
       "    </tr>\n",
       "  </thead>\n",
       "  <tbody>\n",
       "    <tr>\n",
       "      <th>0</th>\n",
       "      <td>male</td>\n",
       "      <td>9</td>\n",
       "      <td>4</td>\n",
       "      <td>13.7</td>\n",
       "      <td>positive</td>\n",
       "      <td>positive</td>\n",
       "      <td>positive</td>\n",
       "      <td>positive</td>\n",
       "      <td>negative</td>\n",
       "      <td>Moderate</td>\n",
       "      <td>underweight</td>\n",
       "      <td>under 30</td>\n",
       "      <td>under 30</td>\n",
       "    </tr>\n",
       "    <tr>\n",
       "      <th>1</th>\n",
       "      <td>female</td>\n",
       "      <td>25</td>\n",
       "      <td>23</td>\n",
       "      <td>20.0</td>\n",
       "      <td>positive</td>\n",
       "      <td>negative</td>\n",
       "      <td>positive</td>\n",
       "      <td>positive</td>\n",
       "      <td>negative</td>\n",
       "      <td>Mild</td>\n",
       "      <td>underweight</td>\n",
       "      <td>under 30</td>\n",
       "      <td>under 30</td>\n",
       "    </tr>\n",
       "    <tr>\n",
       "      <th>2</th>\n",
       "      <td>female</td>\n",
       "      <td>29</td>\n",
       "      <td>13</td>\n",
       "      <td>15.4</td>\n",
       "      <td>positive</td>\n",
       "      <td>negative</td>\n",
       "      <td>negative</td>\n",
       "      <td>positive</td>\n",
       "      <td>negative</td>\n",
       "      <td>Mild</td>\n",
       "      <td>underweight</td>\n",
       "      <td>under 30</td>\n",
       "      <td>under 30</td>\n",
       "    </tr>\n",
       "    <tr>\n",
       "      <th>3</th>\n",
       "      <td>female</td>\n",
       "      <td>22</td>\n",
       "      <td>19</td>\n",
       "      <td>19.3</td>\n",
       "      <td>positive</td>\n",
       "      <td>negative</td>\n",
       "      <td>negative</td>\n",
       "      <td>positive</td>\n",
       "      <td>negative</td>\n",
       "      <td>Mild</td>\n",
       "      <td>underweight</td>\n",
       "      <td>under 30</td>\n",
       "      <td>under 30</td>\n",
       "    </tr>\n",
       "    <tr>\n",
       "      <th>4</th>\n",
       "      <td>male</td>\n",
       "      <td>17</td>\n",
       "      <td>14</td>\n",
       "      <td>19.0</td>\n",
       "      <td>positive</td>\n",
       "      <td>positive</td>\n",
       "      <td>negative</td>\n",
       "      <td>negative</td>\n",
       "      <td>negative</td>\n",
       "      <td>Mild</td>\n",
       "      <td>underweight</td>\n",
       "      <td>under 30</td>\n",
       "      <td>under 30</td>\n",
       "    </tr>\n",
       "  </tbody>\n",
       "</table>\n",
       "</div>"
      ],
      "text/plain": [
       "      sex  age  age of onset   BMI Head & Neck     Trunk     Upper     Lower  \\\n",
       "0    male    9             4  13.7    positive  positive  positive  positive   \n",
       "1  female   25            23  20.0    positive  negative  positive  positive   \n",
       "2  female   29            13  15.4    positive  negative  negative  positive   \n",
       "3  female   22            19  19.3    positive  negative  negative  positive   \n",
       "4    male   17            14  19.0    positive  positive  negative  negative   \n",
       "\n",
       "  palmoplantar      PASI   BMI status age group age of onset group  \n",
       "0     negative  Moderate  underweight  under 30           under 30  \n",
       "1     negative      Mild  underweight  under 30           under 30  \n",
       "2     negative      Mild  underweight  under 30           under 30  \n",
       "3     negative      Mild  underweight  under 30           under 30  \n",
       "4     negative      Mild  underweight  under 30           under 30  "
      ]
     },
     "execution_count": 74,
     "metadata": {},
     "output_type": "execute_result"
    }
   ],
   "source": [
    "dff.head()"
   ]
  },
  {
   "cell_type": "code",
   "execution_count": 75,
   "metadata": {},
   "outputs": [
    {
     "data": {
      "text/html": [
       "<div>\n",
       "<style>\n",
       "    .dataframe thead tr:only-child th {\n",
       "        text-align: right;\n",
       "    }\n",
       "\n",
       "    .dataframe thead th {\n",
       "        text-align: left;\n",
       "    }\n",
       "\n",
       "    .dataframe tbody tr th {\n",
       "        vertical-align: top;\n",
       "    }\n",
       "</style>\n",
       "<table border=\"1\" class=\"dataframe\">\n",
       "  <thead>\n",
       "    <tr style=\"text-align: right;\">\n",
       "      <th></th>\n",
       "      <th>sex</th>\n",
       "      <th>age</th>\n",
       "      <th>age of onset</th>\n",
       "      <th>BMI</th>\n",
       "      <th>Head &amp; Neck</th>\n",
       "      <th>Trunk</th>\n",
       "      <th>Upper</th>\n",
       "      <th>Lower</th>\n",
       "      <th>palmoplantar</th>\n",
       "      <th>PASI</th>\n",
       "      <th>BMI status</th>\n",
       "      <th>age group</th>\n",
       "      <th>age of onset group</th>\n",
       "    </tr>\n",
       "  </thead>\n",
       "  <tbody>\n",
       "    <tr>\n",
       "      <th>185</th>\n",
       "      <td>female</td>\n",
       "      <td>36</td>\n",
       "      <td>31</td>\n",
       "      <td>39.1</td>\n",
       "      <td>negative</td>\n",
       "      <td>negative</td>\n",
       "      <td>negative</td>\n",
       "      <td>positive</td>\n",
       "      <td>negative</td>\n",
       "      <td>Mild</td>\n",
       "      <td>obese</td>\n",
       "      <td>between 30 and 50</td>\n",
       "      <td>between 30 and 50</td>\n",
       "    </tr>\n",
       "    <tr>\n",
       "      <th>186</th>\n",
       "      <td>male</td>\n",
       "      <td>45</td>\n",
       "      <td>42</td>\n",
       "      <td>41.2</td>\n",
       "      <td>negative</td>\n",
       "      <td>negative</td>\n",
       "      <td>negative</td>\n",
       "      <td>positive</td>\n",
       "      <td>negative</td>\n",
       "      <td>Mild</td>\n",
       "      <td>obese</td>\n",
       "      <td>between 30 and 50</td>\n",
       "      <td>between 30 and 50</td>\n",
       "    </tr>\n",
       "    <tr>\n",
       "      <th>187</th>\n",
       "      <td>female</td>\n",
       "      <td>33</td>\n",
       "      <td>31</td>\n",
       "      <td>37.1</td>\n",
       "      <td>negative</td>\n",
       "      <td>negative</td>\n",
       "      <td>negative</td>\n",
       "      <td>positive</td>\n",
       "      <td>negative</td>\n",
       "      <td>Mild</td>\n",
       "      <td>obese</td>\n",
       "      <td>between 30 and 50</td>\n",
       "      <td>between 30 and 50</td>\n",
       "    </tr>\n",
       "    <tr>\n",
       "      <th>188</th>\n",
       "      <td>female</td>\n",
       "      <td>60</td>\n",
       "      <td>57</td>\n",
       "      <td>33.0</td>\n",
       "      <td>negative</td>\n",
       "      <td>negative</td>\n",
       "      <td>negative</td>\n",
       "      <td>positive</td>\n",
       "      <td>negative</td>\n",
       "      <td>Mild</td>\n",
       "      <td>obese</td>\n",
       "      <td>older than 50</td>\n",
       "      <td>older than 50</td>\n",
       "    </tr>\n",
       "    <tr>\n",
       "      <th>189</th>\n",
       "      <td>female</td>\n",
       "      <td>59</td>\n",
       "      <td>57</td>\n",
       "      <td>31.0</td>\n",
       "      <td>negative</td>\n",
       "      <td>negative</td>\n",
       "      <td>negative</td>\n",
       "      <td>positive</td>\n",
       "      <td>negative</td>\n",
       "      <td>Mild</td>\n",
       "      <td>obese</td>\n",
       "      <td>older than 50</td>\n",
       "      <td>older than 50</td>\n",
       "    </tr>\n",
       "  </tbody>\n",
       "</table>\n",
       "</div>"
      ],
      "text/plain": [
       "        sex  age  age of onset   BMI Head & Neck     Trunk     Upper  \\\n",
       "185  female   36            31  39.1    negative  negative  negative   \n",
       "186    male   45            42  41.2    negative  negative  negative   \n",
       "187  female   33            31  37.1    negative  negative  negative   \n",
       "188  female   60            57  33.0    negative  negative  negative   \n",
       "189  female   59            57  31.0    negative  negative  negative   \n",
       "\n",
       "        Lower palmoplantar  PASI BMI status           age group  \\\n",
       "185  positive     negative  Mild      obese   between 30 and 50   \n",
       "186  positive     negative  Mild      obese   between 30 and 50   \n",
       "187  positive     negative  Mild      obese   between 30 and 50   \n",
       "188  positive     negative  Mild      obese       older than 50   \n",
       "189  positive     negative  Mild      obese       older than 50   \n",
       "\n",
       "     age of onset group  \n",
       "185   between 30 and 50  \n",
       "186   between 30 and 50  \n",
       "187   between 30 and 50  \n",
       "188       older than 50  \n",
       "189       older than 50  "
      ]
     },
     "execution_count": 75,
     "metadata": {},
     "output_type": "execute_result"
    }
   ],
   "source": [
    "dff.tail()"
   ]
  },
  {
   "cell_type": "code",
   "execution_count": 12,
   "metadata": {},
   "outputs": [],
   "source": [
    "dff.drop(labels=['age','age of onset','BMI'],axis=1,inplace = True)"
   ]
  },
  {
   "cell_type": "code",
   "execution_count": 13,
   "metadata": {},
   "outputs": [],
   "source": [
    "dff = dff.reindex_axis(['sex', 'Head & Neck', 'Trunk', 'Upper', 'Lower' , 'palmoplantar', 'BMI status', 'age group','age of onset group', 'PASI'], axis=1)"
   ]
  },
  {
   "cell_type": "code",
   "execution_count": 14,
   "metadata": {},
   "outputs": [],
   "source": [
    "def Col_Enc(colname):\n",
    "    \n",
    "    from sklearn.preprocessing import LabelEncoder \n",
    "    encoder=LabelEncoder()\n",
    "    return encoder.fit_transform(colname)"
   ]
  },
  {
   "cell_type": "code",
   "execution_count": 15,
   "metadata": {},
   "outputs": [],
   "source": [
    "for i in list(range(10)):\n",
    "    dff.iloc[:,i]=Col_Enc(dff.iloc[:,i])"
   ]
  },
  {
   "cell_type": "code",
   "execution_count": 16,
   "metadata": {},
   "outputs": [
    {
     "data": {
      "text/plain": [
       "sex                   int64\n",
       "Head & Neck           int64\n",
       "Trunk                 int64\n",
       "Upper                 int64\n",
       "Lower                 int64\n",
       "palmoplantar          int64\n",
       "BMI status            int64\n",
       "age group             int64\n",
       "age of onset group    int64\n",
       "PASI                  int64\n",
       "dtype: object"
      ]
     },
     "execution_count": 16,
     "metadata": {},
     "output_type": "execute_result"
    }
   ],
   "source": [
    "dff.dtypes"
   ]
  },
  {
   "cell_type": "code",
   "execution_count": 45,
   "metadata": {},
   "outputs": [],
   "source": [
    "from sklearn.tree import DecisionTreeClassifier\n",
    "tree_reg=DecisionTreeClassifier(max_depth=5)"
   ]
  },
  {
   "cell_type": "code",
   "execution_count": 18,
   "metadata": {},
   "outputs": [],
   "source": [
    "y=df.PASI\n",
    "dff.drop('PASI', axis = 1, inplace = True)"
   ]
  },
  {
   "cell_type": "code",
   "execution_count": 19,
   "metadata": {},
   "outputs": [],
   "source": [
    "X=dff"
   ]
  },
  {
   "cell_type": "code",
   "execution_count": 20,
   "metadata": {},
   "outputs": [
    {
     "data": {
      "text/html": [
       "<div>\n",
       "<style>\n",
       "    .dataframe thead tr:only-child th {\n",
       "        text-align: right;\n",
       "    }\n",
       "\n",
       "    .dataframe thead th {\n",
       "        text-align: left;\n",
       "    }\n",
       "\n",
       "    .dataframe tbody tr th {\n",
       "        vertical-align: top;\n",
       "    }\n",
       "</style>\n",
       "<table border=\"1\" class=\"dataframe\">\n",
       "  <thead>\n",
       "    <tr style=\"text-align: right;\">\n",
       "      <th></th>\n",
       "      <th>sex</th>\n",
       "      <th>Head &amp; Neck</th>\n",
       "      <th>Trunk</th>\n",
       "      <th>Upper</th>\n",
       "      <th>Lower</th>\n",
       "      <th>palmoplantar</th>\n",
       "      <th>BMI status</th>\n",
       "      <th>age group</th>\n",
       "      <th>age of onset group</th>\n",
       "    </tr>\n",
       "  </thead>\n",
       "  <tbody>\n",
       "    <tr>\n",
       "      <th>0</th>\n",
       "      <td>1</td>\n",
       "      <td>1</td>\n",
       "      <td>1</td>\n",
       "      <td>1</td>\n",
       "      <td>1</td>\n",
       "      <td>0</td>\n",
       "      <td>3</td>\n",
       "      <td>2</td>\n",
       "      <td>2</td>\n",
       "    </tr>\n",
       "    <tr>\n",
       "      <th>1</th>\n",
       "      <td>0</td>\n",
       "      <td>1</td>\n",
       "      <td>0</td>\n",
       "      <td>1</td>\n",
       "      <td>1</td>\n",
       "      <td>0</td>\n",
       "      <td>3</td>\n",
       "      <td>2</td>\n",
       "      <td>2</td>\n",
       "    </tr>\n",
       "    <tr>\n",
       "      <th>2</th>\n",
       "      <td>0</td>\n",
       "      <td>1</td>\n",
       "      <td>0</td>\n",
       "      <td>0</td>\n",
       "      <td>1</td>\n",
       "      <td>0</td>\n",
       "      <td>3</td>\n",
       "      <td>2</td>\n",
       "      <td>2</td>\n",
       "    </tr>\n",
       "    <tr>\n",
       "      <th>3</th>\n",
       "      <td>0</td>\n",
       "      <td>1</td>\n",
       "      <td>0</td>\n",
       "      <td>0</td>\n",
       "      <td>1</td>\n",
       "      <td>0</td>\n",
       "      <td>3</td>\n",
       "      <td>2</td>\n",
       "      <td>2</td>\n",
       "    </tr>\n",
       "    <tr>\n",
       "      <th>4</th>\n",
       "      <td>1</td>\n",
       "      <td>1</td>\n",
       "      <td>1</td>\n",
       "      <td>0</td>\n",
       "      <td>0</td>\n",
       "      <td>0</td>\n",
       "      <td>3</td>\n",
       "      <td>2</td>\n",
       "      <td>2</td>\n",
       "    </tr>\n",
       "  </tbody>\n",
       "</table>\n",
       "</div>"
      ],
      "text/plain": [
       "   sex  Head & Neck  Trunk  Upper  Lower  palmoplantar  BMI status  age group  \\\n",
       "0    1            1      1      1      1             0           3          2   \n",
       "1    0            1      0      1      1             0           3          2   \n",
       "2    0            1      0      0      1             0           3          2   \n",
       "3    0            1      0      0      1             0           3          2   \n",
       "4    1            1      1      0      0             0           3          2   \n",
       "\n",
       "   age of onset group  \n",
       "0                   2  \n",
       "1                   2  \n",
       "2                   2  \n",
       "3                   2  \n",
       "4                   2  "
      ]
     },
     "execution_count": 20,
     "metadata": {},
     "output_type": "execute_result"
    }
   ],
   "source": [
    "X.head()"
   ]
  },
  {
   "cell_type": "code",
   "execution_count": 21,
   "metadata": {},
   "outputs": [
    {
     "data": {
      "text/html": [
       "<div>\n",
       "<style>\n",
       "    .dataframe thead tr:only-child th {\n",
       "        text-align: right;\n",
       "    }\n",
       "\n",
       "    .dataframe thead th {\n",
       "        text-align: left;\n",
       "    }\n",
       "\n",
       "    .dataframe tbody tr th {\n",
       "        vertical-align: top;\n",
       "    }\n",
       "</style>\n",
       "<table border=\"1\" class=\"dataframe\">\n",
       "  <thead>\n",
       "    <tr style=\"text-align: right;\">\n",
       "      <th></th>\n",
       "      <th>sex</th>\n",
       "      <th>Head &amp; Neck</th>\n",
       "      <th>Trunk</th>\n",
       "      <th>Upper</th>\n",
       "      <th>Lower</th>\n",
       "      <th>palmoplantar</th>\n",
       "      <th>BMI status</th>\n",
       "      <th>age group</th>\n",
       "      <th>age of onset group</th>\n",
       "    </tr>\n",
       "  </thead>\n",
       "  <tbody>\n",
       "    <tr>\n",
       "      <th>185</th>\n",
       "      <td>0</td>\n",
       "      <td>0</td>\n",
       "      <td>0</td>\n",
       "      <td>0</td>\n",
       "      <td>1</td>\n",
       "      <td>0</td>\n",
       "      <td>1</td>\n",
       "      <td>0</td>\n",
       "      <td>0</td>\n",
       "    </tr>\n",
       "    <tr>\n",
       "      <th>186</th>\n",
       "      <td>1</td>\n",
       "      <td>0</td>\n",
       "      <td>0</td>\n",
       "      <td>0</td>\n",
       "      <td>1</td>\n",
       "      <td>0</td>\n",
       "      <td>1</td>\n",
       "      <td>0</td>\n",
       "      <td>0</td>\n",
       "    </tr>\n",
       "    <tr>\n",
       "      <th>187</th>\n",
       "      <td>0</td>\n",
       "      <td>0</td>\n",
       "      <td>0</td>\n",
       "      <td>0</td>\n",
       "      <td>1</td>\n",
       "      <td>0</td>\n",
       "      <td>1</td>\n",
       "      <td>0</td>\n",
       "      <td>0</td>\n",
       "    </tr>\n",
       "    <tr>\n",
       "      <th>188</th>\n",
       "      <td>0</td>\n",
       "      <td>0</td>\n",
       "      <td>0</td>\n",
       "      <td>0</td>\n",
       "      <td>1</td>\n",
       "      <td>0</td>\n",
       "      <td>1</td>\n",
       "      <td>1</td>\n",
       "      <td>1</td>\n",
       "    </tr>\n",
       "    <tr>\n",
       "      <th>189</th>\n",
       "      <td>0</td>\n",
       "      <td>0</td>\n",
       "      <td>0</td>\n",
       "      <td>0</td>\n",
       "      <td>1</td>\n",
       "      <td>0</td>\n",
       "      <td>1</td>\n",
       "      <td>1</td>\n",
       "      <td>1</td>\n",
       "    </tr>\n",
       "  </tbody>\n",
       "</table>\n",
       "</div>"
      ],
      "text/plain": [
       "     sex  Head & Neck  Trunk  Upper  Lower  palmoplantar  BMI status  \\\n",
       "185    0            0      0      0      1             0           1   \n",
       "186    1            0      0      0      1             0           1   \n",
       "187    0            0      0      0      1             0           1   \n",
       "188    0            0      0      0      1             0           1   \n",
       "189    0            0      0      0      1             0           1   \n",
       "\n",
       "     age group  age of onset group  \n",
       "185          0                   0  \n",
       "186          0                   0  \n",
       "187          0                   0  \n",
       "188          1                   1  \n",
       "189          1                   1  "
      ]
     },
     "execution_count": 21,
     "metadata": {},
     "output_type": "execute_result"
    }
   ],
   "source": [
    "X.tail()"
   ]
  },
  {
   "cell_type": "code",
   "execution_count": 22,
   "metadata": {},
   "outputs": [
    {
     "name": "stderr",
     "output_type": "stream",
     "text": [
      "/Users/Mohammadreza/anaconda3/lib/python3.6/site-packages/sklearn/cross_validation.py:41: DeprecationWarning: This module was deprecated in version 0.18 in favor of the model_selection module into which all the refactored classes and functions are moved. Also note that the interface of the new CV iterators are different from that of this module. This module will be removed in 0.20.\n",
      "  \"This module will be removed in 0.20.\", DeprecationWarning)\n"
     ]
    }
   ],
   "source": [
    "from sklearn.cross_validation import train_test_split\n",
    "X_train, X_test, y_train, y_test = train_test_split(X, y, test_size = 0.3, random_state = 7)"
   ]
  },
  {
   "cell_type": "code",
   "execution_count": 46,
   "metadata": {},
   "outputs": [
    {
     "data": {
      "text/plain": [
       "DecisionTreeClassifier(class_weight=None, criterion='gini', max_depth=5,\n",
       "            max_features=None, max_leaf_nodes=None,\n",
       "            min_impurity_decrease=0.0, min_impurity_split=None,\n",
       "            min_samples_leaf=1, min_samples_split=2,\n",
       "            min_weight_fraction_leaf=0.0, presort=False, random_state=None,\n",
       "            splitter='best')"
      ]
     },
     "execution_count": 46,
     "metadata": {},
     "output_type": "execute_result"
    }
   ],
   "source": [
    "tree_reg.fit(X_train,y_train)"
   ]
  },
  {
   "cell_type": "code",
   "execution_count": 47,
   "metadata": {},
   "outputs": [
    {
     "data": {
      "text/plain": [
       "0.78947368421052633"
      ]
     },
     "execution_count": 47,
     "metadata": {},
     "output_type": "execute_result"
    }
   ],
   "source": [
    "tree_reg.score(X_test, y_test)"
   ]
  },
  {
   "cell_type": "code",
   "execution_count": 48,
   "metadata": {},
   "outputs": [],
   "source": [
    "from sklearn import tree\n",
    "tree.export_graphviz(tree_reg,out_file='tree.dot')                "
   ]
  },
  {
   "cell_type": "code",
   "execution_count": 49,
   "metadata": {},
   "outputs": [],
   "source": [
    "A=['sex','Head & Neck','Trunk','Upper','Lower','palmoplantar','BMI status','age group','age of onset group'],"
   ]
  },
  {
   "cell_type": "code",
   "execution_count": 50,
   "metadata": {},
   "outputs": [],
   "source": [
    "from sklearn.tree import export_graphviz \n",
    "dot_data=export_graphviz(\n",
    "    tree_reg,\n",
    "    out_file='treee.dot', #image_path('/Users/Mohammadreza/Desktop/treee.dot'),\n",
    "    feature_names=X.columns, \n",
    "    class_names=['Mild','Moderate','Severe','Very severe'],\n",
    "    rounded=True,\n",
    "    filled=True\n",
    ")"
   ]
  },
  {
   "cell_type": "code",
   "execution_count": null,
   "metadata": {},
   "outputs": [],
   "source": []
  }
 ],
 "metadata": {
  "kernelspec": {
   "display_name": "Python [default]",
   "language": "python",
   "name": "python3"
  },
  "language_info": {
   "codemirror_mode": {
    "name": "ipython",
    "version": 3
   },
   "file_extension": ".py",
   "mimetype": "text/x-python",
   "name": "python",
   "nbconvert_exporter": "python",
   "pygments_lexer": "ipython3",
   "version": "3.6.3"
  }
 },
 "nbformat": 4,
 "nbformat_minor": 2
}
